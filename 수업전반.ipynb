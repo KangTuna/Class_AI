{
 "cells": [
  {
   "cell_type": "code",
   "execution_count": 1,
   "id": "43dc33e4",
   "metadata": {},
   "outputs": [],
   "source": [
    "a = 1\n",
    "b = 2\n",
    "c = 3\n",
    "d = 4"
   ]
  },
  {
   "cell_type": "code",
   "execution_count": 2,
   "id": "06b54da3",
   "metadata": {},
   "outputs": [
    {
     "data": {
      "text/plain": [
       "(3, -1, 4)"
      ]
     },
     "execution_count": 2,
     "metadata": {},
     "output_type": "execute_result"
    }
   ],
   "source": [
    "a+b, a-b, a+c"
   ]
  },
  {
   "cell_type": "code",
   "execution_count": 3,
   "id": "a4ef74d5",
   "metadata": {},
   "outputs": [
    {
     "name": "stdout",
     "output_type": "stream",
     "text": [
      "3\n",
      "3 -1 4\n"
     ]
    }
   ],
   "source": [
    "print(a+b)\n",
    "print(a+b,a-b,a+c)"
   ]
  },
  {
   "cell_type": "code",
   "execution_count": 6,
   "id": "03529178",
   "metadata": {},
   "outputs": [
    {
     "name": "stdout",
     "output_type": "stream",
     "text": [
      "2\n",
      "2.0\n",
      "1\n"
     ]
    }
   ],
   "source": [
    "print(a*b)\n",
    "print(d/b)\n",
    "print(d%c)"
   ]
  },
  {
   "cell_type": "code",
   "execution_count": 7,
   "id": "1fa2a3ec",
   "metadata": {},
   "outputs": [
    {
     "name": "stdout",
     "output_type": "stream",
     "text": [
      "aa\n"
     ]
    }
   ],
   "source": [
    "a = input() #input 은 문자열로만 입력받는다,"
   ]
  },
  {
   "cell_type": "code",
   "execution_count": 8,
   "id": "92906d1e",
   "metadata": {},
   "outputs": [
    {
     "name": "stdout",
     "output_type": "stream",
     "text": [
      "123\n",
      "234\n"
     ]
    },
    {
     "data": {
      "text/plain": [
       "(float, int)"
      ]
     },
     "execution_count": 8,
     "metadata": {},
     "output_type": "execute_result"
    }
   ],
   "source": [
    "a = float(input())\n",
    "b = int(input())\n",
    "type(a), type(b)"
   ]
  },
  {
   "cell_type": "code",
   "execution_count": 9,
   "id": "3f9d99ef",
   "metadata": {},
   "outputs": [
    {
     "data": {
      "text/plain": [
       "False"
      ]
     },
     "execution_count": 9,
     "metadata": {},
     "output_type": "execute_result"
    }
   ],
   "source": [
    "a = '채정민'\n",
    "b = '송기냄'\n",
    "a == b"
   ]
  },
  {
   "cell_type": "code",
   "execution_count": 11,
   "id": "3c975e65",
   "metadata": {},
   "outputs": [
    {
     "data": {
      "text/plain": [
       "False"
      ]
     },
     "execution_count": 11,
     "metadata": {},
     "output_type": "execute_result"
    }
   ],
   "source": [
    "파이썬은 = '한글도'\n",
    "변수가 = '된다구'\n",
    "파이썬은 == 변수가"
   ]
  },
  {
   "cell_type": "code",
   "execution_count": 17,
   "id": "975483b5",
   "metadata": {},
   "outputs": [
    {
     "data": {
      "text/plain": [
       "True"
      ]
     },
     "execution_count": 17,
     "metadata": {},
     "output_type": "execute_result"
    }
   ],
   "source": [
    "python = \"aa\"\n",
    "'a' in python"
   ]
  },
  {
   "cell_type": "code",
   "execution_count": 18,
   "id": "bbb36236",
   "metadata": {},
   "outputs": [
    {
     "name": "stdout",
     "output_type": "stream",
     "text": [
      "********************\n"
     ]
    }
   ],
   "source": [
    "print('*'*20)"
   ]
  },
  {
   "cell_type": "code",
   "execution_count": 23,
   "id": "52ed43b5",
   "metadata": {},
   "outputs": [
    {
     "name": "stdout",
     "output_type": "stream",
     "text": [
      "안 .\n"
     ]
    }
   ],
   "source": [
    "A = '안녕하세요 지금은 인공지능 수업 시간입니다.'\n",
    "print(A[0],A[-1])"
   ]
  },
  {
   "cell_type": "code",
   "execution_count": 24,
   "id": "4b6a8c25",
   "metadata": {},
   "outputs": [
    {
     "name": "stdout",
     "output_type": "stream",
     "text": [
      "안녕하세요 지금은 \n"
     ]
    }
   ],
   "source": [
    "print(A[:10])"
   ]
  },
  {
   "cell_type": "code",
   "execution_count": 25,
   "id": "be989b17",
   "metadata": {},
   "outputs": [
    {
     "name": "stdout",
     "output_type": "stream",
     "text": [
      "안녕하세\n"
     ]
    }
   ],
   "source": [
    "print(A[:4])"
   ]
  },
  {
   "cell_type": "code",
   "execution_count": 26,
   "id": "0de85440",
   "metadata": {},
   "outputs": [
    {
     "name": "stdout",
     "output_type": "stream",
     "text": [
      "안녕하세요 지금은 인공지능 수업 시간입니다\n"
     ]
    }
   ],
   "source": [
    "print(A[:-1])"
   ]
  },
  {
   "cell_type": "code",
   "execution_count": 27,
   "id": "27e8db27",
   "metadata": {},
   "outputs": [
    {
     "name": "stdout",
     "output_type": "stream",
     "text": [
      "\n"
     ]
    }
   ],
   "source": [
    "print(A[-1:0])"
   ]
  },
  {
   "cell_type": "code",
   "execution_count": 29,
   "id": "068f4408",
   "metadata": {},
   "outputs": [
    {
     "name": "stdout",
     "output_type": "stream",
     "text": [
      "안녕하세요 지금은 인공지능 수업 시간입니다\n"
     ]
    }
   ],
   "source": [
    "print(A[0:-1])"
   ]
  },
  {
   "cell_type": "code",
   "execution_count": 30,
   "id": "e2c30d01",
   "metadata": {},
   "outputs": [
    {
     "name": "stdout",
     "output_type": "stream",
     "text": [
      "채민\n"
     ]
    }
   ],
   "source": [
    "name = '채민'\n",
    "print('{}'.format(name))"
   ]
  },
  {
   "cell_type": "code",
   "execution_count": 31,
   "id": "7dbcecf0",
   "metadata": {},
   "outputs": [
    {
     "name": "stdout",
     "output_type": "stream",
     "text": [
      "채민\n"
     ]
    }
   ],
   "source": [
    "print(f'{name}')"
   ]
  },
  {
   "cell_type": "code",
   "execution_count": 32,
   "id": "9602d24c",
   "metadata": {},
   "outputs": [
    {
     "name": "stdout",
     "output_type": "stream",
     "text": [
      "제이름은, 채민\n"
     ]
    }
   ],
   "source": [
    "print('{1}, {0}'.format(name,'제이름은'))"
   ]
  },
  {
   "cell_type": "code",
   "execution_count": 33,
   "id": "63ff9fe3",
   "metadata": {},
   "outputs": [
    {
     "name": "stdout",
     "output_type": "stream",
     "text": [
      "3.141592653589793\n"
     ]
    }
   ],
   "source": [
    "import math\n",
    "print(math.pi)"
   ]
  },
  {
   "cell_type": "code",
   "execution_count": 35,
   "id": "c274a0fa",
   "metadata": {},
   "outputs": [
    {
     "name": "stdout",
     "output_type": "stream",
     "text": [
      "www.youtube.com\n"
     ]
    }
   ],
   "source": [
    "url = 'https://www.youtube.com'\n",
    "string = url.replace('https://','')\n",
    "print(string)"
   ]
  },
  {
   "cell_type": "code",
   "execution_count": 42,
   "id": "d1e73486",
   "metadata": {},
   "outputs": [
    {
     "data": {
      "text/plain": [
       "[1, 2, 3, 4]"
      ]
     },
     "execution_count": 42,
     "metadata": {},
     "output_type": "execute_result"
    }
   ],
   "source": [
    "A = [1,2,3,4,5,6]\n",
    "A[:4]"
   ]
  },
  {
   "cell_type": "code",
   "execution_count": 43,
   "id": "3cee55ad",
   "metadata": {},
   "outputs": [
    {
     "name": "stdout",
     "output_type": "stream",
     "text": [
      "[0, 1, 2, 3, 4, 5, 6, 7, 8, 9]\n"
     ]
    }
   ],
   "source": [
    "a= list(range(10))\n",
    "print(a)"
   ]
  },
  {
   "cell_type": "code",
   "execution_count": 44,
   "id": "e88b6c39",
   "metadata": {},
   "outputs": [
    {
     "data": {
      "text/plain": [
       "5"
      ]
     },
     "execution_count": 44,
     "metadata": {},
     "output_type": "execute_result"
    }
   ],
   "source": [
    "a.index(5)"
   ]
  },
  {
   "cell_type": "code",
   "execution_count": 45,
   "id": "494d51aa",
   "metadata": {},
   "outputs": [],
   "source": [
    "b = list(range(1,20,2))"
   ]
  },
  {
   "cell_type": "code",
   "execution_count": 47,
   "id": "40dd12ab",
   "metadata": {},
   "outputs": [
    {
     "data": {
      "text/plain": [
       "2"
      ]
     },
     "execution_count": 47,
     "metadata": {},
     "output_type": "execute_result"
    }
   ],
   "source": [
    "b.index(5)"
   ]
  },
  {
   "cell_type": "code",
   "execution_count": 50,
   "id": "6c7720d2",
   "metadata": {},
   "outputs": [
    {
     "data": {
      "text/plain": [
       "'독고영재'"
      ]
     },
     "execution_count": 50,
     "metadata": {},
     "output_type": "execute_result"
    }
   ],
   "source": [
    "a = ['독고영재,50','김철수,30']\n",
    "a[0][:a[0].index(',')]"
   ]
  },
  {
   "cell_type": "code",
   "execution_count": 1,
   "id": "84cadc9d",
   "metadata": {},
   "outputs": [
    {
     "name": "stdout",
     "output_type": "stream",
     "text": [
      "<class 'str'>\n"
     ]
    }
   ],
   "source": [
    "a = ['a',10,1.1]\n",
    "print(type(a[0]))"
   ]
  },
  {
   "cell_type": "code",
   "execution_count": 2,
   "id": "1ee04e94",
   "metadata": {},
   "outputs": [],
   "source": [
    "a.append('채정민')"
   ]
  },
  {
   "cell_type": "code",
   "execution_count": 3,
   "id": "f1400cb9",
   "metadata": {},
   "outputs": [
    {
     "data": {
      "text/plain": [
       "['a', 10, 1.1, '채정민']"
      ]
     },
     "execution_count": 3,
     "metadata": {},
     "output_type": "execute_result"
    }
   ],
   "source": [
    "a"
   ]
  },
  {
   "cell_type": "code",
   "execution_count": 4,
   "id": "d9232d25",
   "metadata": {},
   "outputs": [
    {
     "data": {
      "text/plain": [
       "'a'"
      ]
     },
     "execution_count": 4,
     "metadata": {},
     "output_type": "execute_result"
    }
   ],
   "source": [
    "a.pop(0)"
   ]
  },
  {
   "cell_type": "code",
   "execution_count": null,
   "id": "36604fbb",
   "metadata": {},
   "outputs": [],
   "source": []
  },
  {
   "cell_type": "code",
   "execution_count": 5,
   "id": "9699f971",
   "metadata": {},
   "outputs": [
    {
     "name": "stdout",
     "output_type": "stream",
     "text": [
      "{'채': '민', '정': '민'}\n"
     ]
    }
   ],
   "source": [
    "dict1 = {'채':'민',\n",
    "         '정':'민'}\n",
    "print(dict1)"
   ]
  },
  {
   "cell_type": "code",
   "execution_count": 6,
   "id": "65663285",
   "metadata": {},
   "outputs": [
    {
     "data": {
      "text/plain": [
       "'민'"
      ]
     },
     "execution_count": 6,
     "metadata": {},
     "output_type": "execute_result"
    }
   ],
   "source": [
    "dict1.get('채')"
   ]
  },
  {
   "cell_type": "code",
   "execution_count": 7,
   "id": "6c3e534f",
   "metadata": {},
   "outputs": [
    {
     "name": "stdout",
     "output_type": "stream",
     "text": [
      "{'채': '민', '정': '민', '채정': '민'}\n"
     ]
    }
   ],
   "source": [
    "dict1['채정'] = '민'\n",
    "print(dict1)"
   ]
  },
  {
   "cell_type": "code",
   "execution_count": 8,
   "id": "57a5a7c6",
   "metadata": {},
   "outputs": [
    {
     "name": "stdout",
     "output_type": "stream",
     "text": [
      "{'정': '민', '채정': '민'}\n"
     ]
    }
   ],
   "source": [
    "del dict1['채']\n",
    "print(dict1)"
   ]
  },
  {
   "cell_type": "code",
   "execution_count": 10,
   "id": "658af844",
   "metadata": {},
   "outputs": [
    {
     "name": "stdout",
     "output_type": "stream",
     "text": [
      "range(0, 10)\n",
      "[0, 1, 2, 3, 4, 5, 6, 7, 8, 9]\n"
     ]
    }
   ],
   "source": [
    "a = range(10)\n",
    "print(a)\n",
    "a = list(a)\n",
    "print(a)"
   ]
  },
  {
   "cell_type": "code",
   "execution_count": 11,
   "id": "48106852",
   "metadata": {},
   "outputs": [
    {
     "name": "stdout",
     "output_type": "stream",
     "text": [
      "0\n",
      "1\n",
      "2\n",
      "3\n",
      "4\n",
      "5\n",
      "6\n",
      "7\n",
      "8\n",
      "9\n"
     ]
    }
   ],
   "source": [
    "for i in range(10):\n",
    "    print(i)"
   ]
  },
  {
   "cell_type": "code",
   "execution_count": 12,
   "id": "2d1aa36c",
   "metadata": {},
   "outputs": [
    {
     "name": "stdout",
     "output_type": "stream",
     "text": [
      "채\n",
      "정\n",
      "민\n",
      "폼\n",
      "미\n",
      "쳤\n",
      "다\n"
     ]
    }
   ],
   "source": [
    "a = '채정민폼미쳤다'\n",
    "for i in a:\n",
    "    print(i)"
   ]
  },
  {
   "cell_type": "code",
   "execution_count": 15,
   "id": "7f15b92c",
   "metadata": {
    "collapsed": true
   },
   "outputs": [
    {
     "name": "stdout",
     "output_type": "stream",
     "text": [
      "1 2 3 4 5 6 7 8 9 \n",
      "2 4 6 8 10 12 14 16 18 \n",
      "3 6 9 12 15 18 21 24 27 \n",
      "4 8 12 16 20 24 28 32 36 \n",
      "5 10 15 20 25 30 35 40 45 \n",
      "6 12 18 24 30 36 42 48 54 \n",
      "7 14 21 28 35 42 49 56 63 \n",
      "8 16 24 32 40 48 56 64 72 \n",
      "9 18 27 36 45 54 63 72 81 \n"
     ]
    }
   ],
   "source": [
    "for i in range(1,10):\n",
    "    for j in range(1,10):\n",
    "        print(i*j,end = ' ')\n",
    "    print()"
   ]
  },
  {
   "cell_type": "code",
   "execution_count": 17,
   "id": "e93a55af",
   "metadata": {
    "collapsed": true
   },
   "outputs": [
    {
     "name": "stdout",
     "output_type": "stream",
     "text": [
      "----------1단-----------\n",
      "구구단 : 1 x 1 = 1입니다.\n",
      "구구단 : 1 x 2 = 2입니다.\n",
      "구구단 : 1 x 3 = 3입니다.\n",
      "구구단 : 1 x 4 = 4입니다.\n",
      "구구단 : 1 x 5 = 5입니다.\n",
      "구구단 : 1 x 6 = 6입니다.\n",
      "구구단 : 1 x 7 = 7입니다.\n",
      "구구단 : 1 x 8 = 8입니다.\n",
      "구구단 : 1 x 9 = 9입니다.\n",
      "----------2단-----------\n",
      "구구단 : 2 x 1 = 2입니다.\n",
      "구구단 : 2 x 2 = 4입니다.\n",
      "구구단 : 2 x 3 = 6입니다.\n",
      "구구단 : 2 x 4 = 8입니다.\n",
      "구구단 : 2 x 5 = 10입니다.\n",
      "구구단 : 2 x 6 = 12입니다.\n",
      "구구단 : 2 x 7 = 14입니다.\n",
      "구구단 : 2 x 8 = 16입니다.\n",
      "구구단 : 2 x 9 = 18입니다.\n",
      "----------3단-----------\n",
      "구구단 : 3 x 1 = 3입니다.\n",
      "구구단 : 3 x 2 = 6입니다.\n",
      "구구단 : 3 x 3 = 9입니다.\n",
      "구구단 : 3 x 4 = 12입니다.\n",
      "구구단 : 3 x 5 = 15입니다.\n",
      "구구단 : 3 x 6 = 18입니다.\n",
      "구구단 : 3 x 7 = 21입니다.\n",
      "구구단 : 3 x 8 = 24입니다.\n",
      "구구단 : 3 x 9 = 27입니다.\n",
      "----------4단-----------\n",
      "구구단 : 4 x 1 = 4입니다.\n",
      "구구단 : 4 x 2 = 8입니다.\n",
      "구구단 : 4 x 3 = 12입니다.\n",
      "구구단 : 4 x 4 = 16입니다.\n",
      "구구단 : 4 x 5 = 20입니다.\n",
      "구구단 : 4 x 6 = 24입니다.\n",
      "구구단 : 4 x 7 = 28입니다.\n",
      "구구단 : 4 x 8 = 32입니다.\n",
      "구구단 : 4 x 9 = 36입니다.\n",
      "----------5단-----------\n",
      "구구단 : 5 x 1 = 5입니다.\n",
      "구구단 : 5 x 2 = 10입니다.\n",
      "구구단 : 5 x 3 = 15입니다.\n",
      "구구단 : 5 x 4 = 20입니다.\n",
      "구구단 : 5 x 5 = 25입니다.\n",
      "구구단 : 5 x 6 = 30입니다.\n",
      "구구단 : 5 x 7 = 35입니다.\n",
      "구구단 : 5 x 8 = 40입니다.\n",
      "구구단 : 5 x 9 = 45입니다.\n",
      "----------6단-----------\n",
      "구구단 : 6 x 1 = 6입니다.\n",
      "구구단 : 6 x 2 = 12입니다.\n",
      "구구단 : 6 x 3 = 18입니다.\n",
      "구구단 : 6 x 4 = 24입니다.\n",
      "구구단 : 6 x 5 = 30입니다.\n",
      "구구단 : 6 x 6 = 36입니다.\n",
      "구구단 : 6 x 7 = 42입니다.\n",
      "구구단 : 6 x 8 = 48입니다.\n",
      "구구단 : 6 x 9 = 54입니다.\n",
      "----------7단-----------\n",
      "구구단 : 7 x 1 = 7입니다.\n",
      "구구단 : 7 x 2 = 14입니다.\n",
      "구구단 : 7 x 3 = 21입니다.\n",
      "구구단 : 7 x 4 = 28입니다.\n",
      "구구단 : 7 x 5 = 35입니다.\n",
      "구구단 : 7 x 6 = 42입니다.\n",
      "구구단 : 7 x 7 = 49입니다.\n",
      "구구단 : 7 x 8 = 56입니다.\n",
      "구구단 : 7 x 9 = 63입니다.\n",
      "----------8단-----------\n",
      "구구단 : 8 x 1 = 8입니다.\n",
      "구구단 : 8 x 2 = 16입니다.\n",
      "구구단 : 8 x 3 = 24입니다.\n",
      "구구단 : 8 x 4 = 32입니다.\n",
      "구구단 : 8 x 5 = 40입니다.\n",
      "구구단 : 8 x 6 = 48입니다.\n",
      "구구단 : 8 x 7 = 56입니다.\n",
      "구구단 : 8 x 8 = 64입니다.\n",
      "구구단 : 8 x 9 = 72입니다.\n",
      "----------9단-----------\n",
      "구구단 : 9 x 1 = 9입니다.\n",
      "구구단 : 9 x 2 = 18입니다.\n",
      "구구단 : 9 x 3 = 27입니다.\n",
      "구구단 : 9 x 4 = 36입니다.\n",
      "구구단 : 9 x 5 = 45입니다.\n",
      "구구단 : 9 x 6 = 54입니다.\n",
      "구구단 : 9 x 7 = 63입니다.\n",
      "구구단 : 9 x 8 = 72입니다.\n",
      "구구단 : 9 x 9 = 81입니다.\n"
     ]
    }
   ],
   "source": [
    "for i in range(1,10):\n",
    "    print(f'----------{i}단-----------')\n",
    "    for j in range(1,10):\n",
    "        print(f'구구단 : {i} x {j} = {i*j}입니다.')"
   ]
  },
  {
   "cell_type": "code",
   "execution_count": 23,
   "id": "405348d3",
   "metadata": {},
   "outputs": [
    {
     "name": "stdout",
     "output_type": "stream",
     "text": [
      "1 9\n",
      "2 8\n",
      "3 7\n",
      "4 6\n",
      "5 5\n",
      "6 4\n",
      "7 3\n",
      "8 2\n",
      "9 1\n"
     ]
    }
   ],
   "source": [
    "for i,j in zip(range(1,10),range(9,-1,-1)):\n",
    "    print(i,j)"
   ]
  },
  {
   "cell_type": "code",
   "execution_count": 24,
   "id": "ebbba967",
   "metadata": {},
   "outputs": [],
   "source": [
    "Ai = {\"417호\":\"유희경\",\"514호\":\"황득영\",\"510호\":\"홍종성\",\n",
    "     \"509호\":\"오형술\",\"507호\":\"장영관\",\"508호\":\"문성동\",\n",
    "     \"515호\":\"윤인섭\",\"609호\":\"윤종철\",\"513호\":\"박은희\",\n",
    "     \"506호\":\"이두호\",\"415호\":\"권세진\",\"416호\":\"이태민\",\n",
    "     \"607호\":\"조기필\",\"516호\":\"김창균\"}"
   ]
  },
  {
   "cell_type": "code",
   "execution_count": 29,
   "id": "599ecd19",
   "metadata": {},
   "outputs": [
    {
     "name": "stdout",
     "output_type": "stream",
     "text": [
      "유희경 417호\n",
      "황득영 514호\n",
      "홍종성 510호\n",
      "오형술 509호\n",
      "장영관 507호\n",
      "문성동 508호\n",
      "윤인섭 515호\n",
      "윤종철 609호\n",
      "박은희 513호\n",
      "이두호 506호\n",
      "권세진 415호\n",
      "이태민 416호\n",
      "조기필 607호\n",
      "김창균 516호\n"
     ]
    }
   ],
   "source": [
    "for k,v in Ai.items():\n",
    "    print(v,k)"
   ]
  },
  {
   "cell_type": "code",
   "execution_count": 27,
   "id": "a74c88ec",
   "metadata": {},
   "outputs": [
    {
     "name": "stdout",
     "output_type": "stream",
     "text": [
      "*\n",
      "**\n",
      "***\n",
      "****\n",
      "*****\n",
      "******\n",
      "*******\n",
      "********\n",
      "*********\n"
     ]
    }
   ],
   "source": [
    "for i in range(1,10):\n",
    "    print('*'*i)"
   ]
  },
  {
   "cell_type": "code",
   "execution_count": 33,
   "id": "370cae9d",
   "metadata": {},
   "outputs": [
    {
     "data": {
      "text/plain": [
       "'C:\\\\Users\\\\WoohyeopKang\\\\Desktop\\\\jupyter'"
      ]
     },
     "execution_count": 33,
     "metadata": {},
     "output_type": "execute_result"
    }
   ],
   "source": [
    "import os\n",
    "os.getcwd()"
   ]
  },
  {
   "cell_type": "code",
   "execution_count": 34,
   "id": "0b3cf31b",
   "metadata": {},
   "outputs": [],
   "source": [
    "dir_list = os.listdir()"
   ]
  },
  {
   "cell_type": "raw",
   "id": "b66304cc",
   "metadata": {},
   "source": [
    "print(dir_list)"
   ]
  },
  {
   "cell_type": "code",
   "execution_count": 35,
   "id": "51e5ea1a",
   "metadata": {},
   "outputs": [
    {
     "name": "stdout",
     "output_type": "stream",
     "text": [
      ".ipynb_checkpoints\n",
      "lotto.ipynb\n",
      "Untitled.ipynb\n"
     ]
    }
   ],
   "source": [
    "for i in dir_list:\n",
    "    print(i)"
   ]
  },
  {
   "cell_type": "code",
   "execution_count": 37,
   "id": "0da58c54",
   "metadata": {},
   "outputs": [
    {
     "name": "stdout",
     "output_type": "stream",
     "text": [
      "김철수는 20살이다\n",
      "이철수는 24살이다\n",
      "김영희는 21살이다\n",
      "이영희는 24살이다\n",
      "김민준는 35살이다\n",
      "박민준는 40살이다\n",
      "김지영는 34살이다\n",
      "박지영는 35살이다\n"
     ]
    }
   ],
   "source": [
    "list1 = ['김철수/20','이철수/24','김영희/21','이영희/24','김민준/35','박민준/40','김지영/34','박지영/35']\n",
    "\n",
    "for i in list1:\n",
    "    a,b = i.split('/')\n",
    "    print(f'{a}는 {b}살이다')"
   ]
  },
  {
   "cell_type": "code",
   "execution_count": 38,
   "id": "9f23b40f",
   "metadata": {},
   "outputs": [],
   "source": [
    "list2 = []\n",
    "for i in list1:\n",
    "    list2.append(i.split('/'))"
   ]
  },
  {
   "cell_type": "code",
   "execution_count": 41,
   "id": "870d2a68",
   "metadata": {},
   "outputs": [
    {
     "name": "stdout",
     "output_type": "stream",
     "text": [
      "[['김철수', '20'], ['이철수', '24'], ['김영희', '21'], ['이영희', '24'], ['김민준', '35'], ['박민준', '40'], ['김지영', '34'], ['박지영', '35']]\n",
      "김철수는 20살이다\n",
      "이철수는 24살이다\n",
      "김영희는 21살이다\n",
      "이영희는 24살이다\n",
      "김민준는 35살이다\n",
      "박민준는 40살이다\n",
      "김지영는 34살이다\n",
      "박지영는 35살이다\n"
     ]
    }
   ],
   "source": [
    "print(list2)\n",
    "for i in list2:\n",
    "    print(f'{i[0]}는 {i[1]}살이다')"
   ]
  },
  {
   "cell_type": "code",
   "execution_count": 1,
   "id": "b2ceff39",
   "metadata": {},
   "outputs": [],
   "source": [
    "a = Ai = {\"417호\":\"유희경\",\"514호\":\"황득영\",\"510호\":\"홍종성\",\n",
    "     \"509호\":\"오형술\",\"507호\":\"장영관\",\"508호\":\"문성동\",\n",
    "     \"515호\":\"윤인섭\",\"609호\":\"윤종철\",\"513호\":\"박은희\",\n",
    "     \"506호\":\"이두호\",\"415호\":\"권세진\",\"416호\":\"이태민\",\n",
    "     \"607호\":\"조기필\",\"516호\":\"김창균\"}"
   ]
  },
  {
   "cell_type": "code",
   "execution_count": 2,
   "id": "93efb064",
   "metadata": {
    "collapsed": true
   },
   "outputs": [
    {
     "name": "stdout",
     "output_type": "stream",
     "text": [
      "417호 유희경\n",
      "514호 황득영\n",
      "510호 홍종성\n",
      "509호 오형술\n",
      "507호 장영관\n",
      "508호 문성동\n",
      "515호 윤인섭\n",
      "609호 윤종철\n",
      "513호 박은희\n",
      "506호 이두호\n",
      "415호 권세진\n",
      "416호 이태민\n",
      "607호 조기필\n",
      "516호 김창균\n"
     ]
    }
   ],
   "source": [
    "for i,j in a.items():\n",
    "    print(i,j)"
   ]
  },
  {
   "cell_type": "code",
   "execution_count": 3,
   "id": "9189d4f7",
   "metadata": {
    "collapsed": true
   },
   "outputs": [
    {
     "name": "stdout",
     "output_type": "stream",
     "text": [
      "유희경\n",
      "황득영\n",
      "홍종성\n",
      "오형술\n",
      "장영관\n",
      "문성동\n",
      "윤인섭\n",
      "윤종철\n",
      "박은희\n",
      "이두호\n",
      "권세진\n",
      "이태민\n",
      "조기필\n",
      "김창균\n"
     ]
    }
   ],
   "source": [
    "for i in a.values():\n",
    "    print(i)"
   ]
  },
  {
   "cell_type": "code",
   "execution_count": 4,
   "id": "9c0fa7cd",
   "metadata": {
    "collapsed": true
   },
   "outputs": [
    {
     "name": "stdout",
     "output_type": "stream",
     "text": [
      "417호\n",
      "514호\n",
      "510호\n",
      "509호\n",
      "507호\n",
      "508호\n",
      "515호\n",
      "609호\n",
      "513호\n",
      "506호\n",
      "415호\n",
      "416호\n",
      "607호\n",
      "516호\n"
     ]
    }
   ],
   "source": [
    "for i in a.keys():\n",
    "    print(i)"
   ]
  },
  {
   "cell_type": "code",
   "execution_count": 5,
   "id": "4cf3d29a",
   "metadata": {},
   "outputs": [
    {
     "name": "stdout",
     "output_type": "stream",
     "text": [
      "통과\n"
     ]
    }
   ],
   "source": [
    "a = 10\n",
    "if a>9:\n",
    "    print('통과')"
   ]
  },
  {
   "cell_type": "code",
   "execution_count": 9,
   "id": "f148c044",
   "metadata": {},
   "outputs": [
    {
     "name": "stdout",
     "output_type": "stream",
     "text": [
      "X\n"
     ]
    }
   ],
   "source": [
    "a = 9\n",
    "b = 20\n",
    "if a > 9:\n",
    "    print('통과')\n",
    "else:\n",
    "    print('X')"
   ]
  },
  {
   "cell_type": "code",
   "execution_count": 11,
   "id": "5bcf477b",
   "metadata": {},
   "outputs": [
    {
     "name": "stdout",
     "output_type": "stream",
     "text": [
      "나머지 전부\n"
     ]
    }
   ],
   "source": [
    "if a >= 10:\n",
    "    print('첫번째')\n",
    "elif a >= 8 and b<10:\n",
    "    print('두번째')\n",
    "else:\n",
    "    print('나머지 전부')"
   ]
  },
  {
   "cell_type": "code",
   "execution_count": 12,
   "id": "048d55ac",
   "metadata": {},
   "outputs": [
    {
     "name": "stdout",
     "output_type": "stream",
     "text": [
      "a\n"
     ]
    }
   ],
   "source": [
    "a = 10\n",
    "list1 = [1,2,3,4,10]\n",
    "if a in list1:\n",
    "    print('a')\n",
    "    "
   ]
  },
  {
   "cell_type": "code",
   "execution_count": null,
   "id": "1dcb74cb",
   "metadata": {},
   "outputs": [],
   "source": [
    "\n",
    "    "
   ]
  },
  {
   "cell_type": "code",
   "execution_count": 15,
   "id": "33219eee",
   "metadata": {
    "collapsed": true
   },
   "outputs": [
    {
     "name": "stdout",
     "output_type": "stream",
     "text": [
      "2\n",
      "4\n",
      "6\n",
      "8\n",
      "10\n",
      "12\n",
      "14\n",
      "16\n",
      "18\n",
      "20\n",
      "22\n",
      "24\n",
      "26\n",
      "28\n",
      "30\n",
      "32\n",
      "34\n",
      "36\n",
      "38\n",
      "40\n",
      "42\n",
      "44\n",
      "46\n",
      "48\n",
      "50\n",
      "52\n",
      "54\n",
      "56\n",
      "58\n",
      "60\n",
      "62\n",
      "64\n",
      "66\n",
      "68\n",
      "70\n",
      "72\n",
      "74\n",
      "76\n",
      "78\n",
      "80\n",
      "82\n",
      "84\n",
      "86\n",
      "88\n",
      "90\n",
      "92\n",
      "94\n",
      "96\n",
      "98\n",
      "100\n"
     ]
    }
   ],
   "source": [
    "i = 0\n",
    "while i < 100:\n",
    "    i += 2\n",
    "    print(i)"
   ]
  },
  {
   "cell_type": "code",
   "execution_count": 18,
   "id": "7970d584",
   "metadata": {},
   "outputs": [],
   "source": [
    "a = 1"
   ]
  },
  {
   "cell_type": "code",
   "execution_count": 3,
   "id": "58cab41c",
   "metadata": {},
   "outputs": [],
   "source": [
    "def 함수명도한글이된다구(a,b):\n",
    "    print(a+b)"
   ]
  },
  {
   "cell_type": "code",
   "execution_count": 4,
   "id": "438a02af",
   "metadata": {},
   "outputs": [
    {
     "name": "stdout",
     "output_type": "stream",
     "text": [
      "21\n"
     ]
    }
   ],
   "source": [
    "함수명도한글이된다구(10,11)"
   ]
  },
  {
   "cell_type": "code",
   "execution_count": 5,
   "id": "997d5e6d",
   "metadata": {},
   "outputs": [],
   "source": [
    "def plus(a,b):\n",
    "    return a+b"
   ]
  },
  {
   "cell_type": "code",
   "execution_count": 6,
   "id": "6479f93b",
   "metadata": {},
   "outputs": [
    {
     "name": "stdout",
     "output_type": "stream",
     "text": [
      "30\n"
     ]
    }
   ],
   "source": [
    "print(plus(10,20))"
   ]
  },
  {
   "cell_type": "code",
   "execution_count": 7,
   "id": "5f113e30",
   "metadata": {},
   "outputs": [
    {
     "ename": "NameError",
     "evalue": "name 'a' is not defined",
     "output_type": "error",
     "traceback": [
      "\u001b[1;31m---------------------------------------------------------------------------\u001b[0m",
      "\u001b[1;31mNameError\u001b[0m                                 Traceback (most recent call last)",
      "\u001b[1;32m~\\AppData\\Local\\Temp\\ipykernel_20468\\2972294953.py\u001b[0m in \u001b[0;36m<module>\u001b[1;34m\u001b[0m\n\u001b[0;32m      2\u001b[0m     \u001b[0mc\u001b[0m \u001b[1;33m=\u001b[0m \u001b[0ma\u001b[0m\u001b[1;33m+\u001b[0m\u001b[0mb\u001b[0m\u001b[1;33m\u001b[0m\u001b[1;33m\u001b[0m\u001b[0m\n\u001b[0;32m      3\u001b[0m     \u001b[1;32mreturn\u001b[0m \u001b[0mc\u001b[0m\u001b[1;33m\u001b[0m\u001b[1;33m\u001b[0m\u001b[0m\n\u001b[1;32m----> 4\u001b[1;33m \u001b[0ma\u001b[0m\u001b[1;33m\u001b[0m\u001b[1;33m\u001b[0m\u001b[0m\n\u001b[0m",
      "\u001b[1;31mNameError\u001b[0m: name 'a' is not defined"
     ]
    }
   ],
   "source": [
    "def t(a,b):\n",
    "    c = a+b\n",
    "    return c\n",
    "a"
   ]
  },
  {
   "cell_type": "code",
   "execution_count": 8,
   "id": "b6ecacea",
   "metadata": {},
   "outputs": [],
   "source": [
    "def p(a,b):\n",
    "    c = a+b\n",
    "    return a,b,c"
   ]
  },
  {
   "cell_type": "code",
   "execution_count": 10,
   "id": "5da64841",
   "metadata": {},
   "outputs": [],
   "source": [
    "a = p(10,20)"
   ]
  },
  {
   "cell_type": "code",
   "execution_count": 11,
   "id": "f0e2bfb8",
   "metadata": {},
   "outputs": [
    {
     "data": {
      "text/plain": [
       "tuple"
      ]
     },
     "execution_count": 11,
     "metadata": {},
     "output_type": "execute_result"
    }
   ],
   "source": [
    "type(a)"
   ]
  },
  {
   "cell_type": "code",
   "execution_count": 12,
   "id": "cab1563d",
   "metadata": {},
   "outputs": [
    {
     "name": "stdout",
     "output_type": "stream",
     "text": [
      "55\n"
     ]
    }
   ],
   "source": [
    "def num(*args):\n",
    "    return sum(args)\n",
    "print(num(1,2,3,4,5,6,7,8,9,10))"
   ]
  },
  {
   "cell_type": "code",
   "execution_count": 14,
   "id": "88f85f14",
   "metadata": {},
   "outputs": [
    {
     "name": "stdout",
     "output_type": "stream",
     "text": [
      "('K', 21)\n"
     ]
    }
   ],
   "source": [
    "def num1(*args,name):\n",
    "    return name,sum(args)\n",
    "print(num1(1,2,3,4,5,6,name = 'K'))"
   ]
  },
  {
   "cell_type": "code",
   "execution_count": 15,
   "id": "baa16932",
   "metadata": {},
   "outputs": [
    {
     "name": "stdout",
     "output_type": "stream",
     "text": [
      "핸드폰에 어떤 문제가 있나요?액\n",
      "핸드폰에 어떤 문제가 있나요?정\n",
      "핸드폰에 어떤 문제가 있나요?파\n",
      "핸드폰에 어떤 문제가 있나요?손\n",
      "핸드폰에 어떤 문제가 있나요?f\n",
      "140000\n"
     ]
    }
   ],
   "source": [
    "def phone(n):\n",
    "    while True:\n",
    "        ans = input('핸드폰에 어떤 문제가 있나요? ')\n",
    "        if ans == 'f':\n",
    "            break\n",
    "        n -= 15000\n",
    "    print(n)\n",
    "phone(200000)"
   ]
  },
  {
   "cell_type": "code",
   "execution_count": 17,
   "id": "e0e4c7c2",
   "metadata": {},
   "outputs": [
    {
     "name": "stdout",
     "output_type": "stream",
     "text": [
      "2\n"
     ]
    }
   ],
   "source": [
    "a = 5\n",
    "if a >= 10:\n",
    "    print(1)\n",
    "elif a >= 5:\n",
    "    print(2)\n",
    "elif a >= 3:\n",
    "    print(4)\n",
    "else:\n",
    "    print(3)"
   ]
  },
  {
   "cell_type": "code",
   "execution_count": null,
   "id": "cb905963",
   "metadata": {},
   "outputs": [],
   "source": []
  }
 ],
 "metadata": {
  "kernelspec": {
   "display_name": "Tuna",
   "language": "python",
   "name": "tuna"
  },
  "language_info": {
   "codemirror_mode": {
    "name": "ipython",
    "version": 3
   },
   "file_extension": ".py",
   "mimetype": "text/x-python",
   "name": "python",
   "nbconvert_exporter": "python",
   "pygments_lexer": "ipython3",
   "version": "3.9.13"
  }
 },
 "nbformat": 4,
 "nbformat_minor": 5
}
