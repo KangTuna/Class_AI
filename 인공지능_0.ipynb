{
  "nbformat": 4,
  "nbformat_minor": 0,
  "metadata": {
    "colab": {
      "provenance": [],
      "authorship_tag": "ABX9TyPqfeatfMMAqpEjyFSe42wk",
      "include_colab_link": true
    },
    "kernelspec": {
      "name": "python3",
      "display_name": "Python 3"
    },
    "language_info": {
      "name": "python"
    }
  },
  "cells": [
    {
      "cell_type": "markdown",
      "metadata": {
        "id": "view-in-github",
        "colab_type": "text"
      },
      "source": [
        "<a href=\"https://colab.research.google.com/github/KangTuna/Class_AI/blob/main/%EC%9D%B8%EA%B3%B5%EC%A7%80%EB%8A%A5_0.ipynb\" target=\"_parent\"><img src=\"https://colab.research.google.com/assets/colab-badge.svg\" alt=\"Open In Colab\"/></a>"
      ]
    },
    {
      "cell_type": "code",
      "source": [
        "name = \"강우협\"\n",
        "age = 29\n",
        "\n",
        "#format\n",
        "print(f\"제 이름은 {name}이고 나이는 {age} 입니다\")\n",
        "print(\"제 이름은 {}이고 나이는 {} 입니다\".format(name,age))"
      ],
      "metadata": {
        "id": "BfVDiT7YdfRk",
        "colab": {
          "base_uri": "https://localhost:8080/"
        },
        "outputId": "635e975e-75ea-46f4-a651-eb588514cff6"
      },
      "execution_count": 11,
      "outputs": [
        {
          "output_type": "stream",
          "name": "stdout",
          "text": [
            "제 이름은 강우협이고 나이는 29 입니다\n",
            "제 이름은 강우협이고 나이는 29 입니다\n"
          ]
        }
      ]
    },
    {
      "cell_type": "code",
      "source": [
        "for i in range(1,10):\n",
        "  print(f\"------------{i}단------------\")\n",
        "  for j in range(1,10):\n",
        "    print(f\"구구단 : {i} * {j} = {i*j} 입니다.\")"
      ],
      "metadata": {
        "colab": {
          "base_uri": "https://localhost:8080/"
        },
        "id": "vFs1mljcmzuP",
        "outputId": "111b64f6-ae99-4b29-ecdf-16b5130c4a73"
      },
      "execution_count": 17,
      "outputs": [
        {
          "output_type": "stream",
          "name": "stdout",
          "text": [
            "------------1단------------\n",
            "구구단 : 1 * 1 = 1 입니다.\n",
            "구구단 : 1 * 2 = 2 입니다.\n",
            "구구단 : 1 * 3 = 3 입니다.\n",
            "구구단 : 1 * 4 = 4 입니다.\n",
            "구구단 : 1 * 5 = 5 입니다.\n",
            "구구단 : 1 * 6 = 6 입니다.\n",
            "구구단 : 1 * 7 = 7 입니다.\n",
            "구구단 : 1 * 8 = 8 입니다.\n",
            "구구단 : 1 * 9 = 9 입니다.\n",
            "------------2단------------\n",
            "구구단 : 2 * 1 = 2 입니다.\n",
            "구구단 : 2 * 2 = 4 입니다.\n",
            "구구단 : 2 * 3 = 6 입니다.\n",
            "구구단 : 2 * 4 = 8 입니다.\n",
            "구구단 : 2 * 5 = 10 입니다.\n",
            "구구단 : 2 * 6 = 12 입니다.\n",
            "구구단 : 2 * 7 = 14 입니다.\n",
            "구구단 : 2 * 8 = 16 입니다.\n",
            "구구단 : 2 * 9 = 18 입니다.\n",
            "------------3단------------\n",
            "구구단 : 3 * 1 = 3 입니다.\n",
            "구구단 : 3 * 2 = 6 입니다.\n",
            "구구단 : 3 * 3 = 9 입니다.\n",
            "구구단 : 3 * 4 = 12 입니다.\n",
            "구구단 : 3 * 5 = 15 입니다.\n",
            "구구단 : 3 * 6 = 18 입니다.\n",
            "구구단 : 3 * 7 = 21 입니다.\n",
            "구구단 : 3 * 8 = 24 입니다.\n",
            "구구단 : 3 * 9 = 27 입니다.\n",
            "------------4단------------\n",
            "구구단 : 4 * 1 = 4 입니다.\n",
            "구구단 : 4 * 2 = 8 입니다.\n",
            "구구단 : 4 * 3 = 12 입니다.\n",
            "구구단 : 4 * 4 = 16 입니다.\n",
            "구구단 : 4 * 5 = 20 입니다.\n",
            "구구단 : 4 * 6 = 24 입니다.\n",
            "구구단 : 4 * 7 = 28 입니다.\n",
            "구구단 : 4 * 8 = 32 입니다.\n",
            "구구단 : 4 * 9 = 36 입니다.\n",
            "------------5단------------\n",
            "구구단 : 5 * 1 = 5 입니다.\n",
            "구구단 : 5 * 2 = 10 입니다.\n",
            "구구단 : 5 * 3 = 15 입니다.\n",
            "구구단 : 5 * 4 = 20 입니다.\n",
            "구구단 : 5 * 5 = 25 입니다.\n",
            "구구단 : 5 * 6 = 30 입니다.\n",
            "구구단 : 5 * 7 = 35 입니다.\n",
            "구구단 : 5 * 8 = 40 입니다.\n",
            "구구단 : 5 * 9 = 45 입니다.\n",
            "------------6단------------\n",
            "구구단 : 6 * 1 = 6 입니다.\n",
            "구구단 : 6 * 2 = 12 입니다.\n",
            "구구단 : 6 * 3 = 18 입니다.\n",
            "구구단 : 6 * 4 = 24 입니다.\n",
            "구구단 : 6 * 5 = 30 입니다.\n",
            "구구단 : 6 * 6 = 36 입니다.\n",
            "구구단 : 6 * 7 = 42 입니다.\n",
            "구구단 : 6 * 8 = 48 입니다.\n",
            "구구단 : 6 * 9 = 54 입니다.\n",
            "------------7단------------\n",
            "구구단 : 7 * 1 = 7 입니다.\n",
            "구구단 : 7 * 2 = 14 입니다.\n",
            "구구단 : 7 * 3 = 21 입니다.\n",
            "구구단 : 7 * 4 = 28 입니다.\n",
            "구구단 : 7 * 5 = 35 입니다.\n",
            "구구단 : 7 * 6 = 42 입니다.\n",
            "구구단 : 7 * 7 = 49 입니다.\n",
            "구구단 : 7 * 8 = 56 입니다.\n",
            "구구단 : 7 * 9 = 63 입니다.\n",
            "------------8단------------\n",
            "구구단 : 8 * 1 = 8 입니다.\n",
            "구구단 : 8 * 2 = 16 입니다.\n",
            "구구단 : 8 * 3 = 24 입니다.\n",
            "구구단 : 8 * 4 = 32 입니다.\n",
            "구구단 : 8 * 5 = 40 입니다.\n",
            "구구단 : 8 * 6 = 48 입니다.\n",
            "구구단 : 8 * 7 = 56 입니다.\n",
            "구구단 : 8 * 8 = 64 입니다.\n",
            "구구단 : 8 * 9 = 72 입니다.\n",
            "------------9단------------\n",
            "구구단 : 9 * 1 = 9 입니다.\n",
            "구구단 : 9 * 2 = 18 입니다.\n",
            "구구단 : 9 * 3 = 27 입니다.\n",
            "구구단 : 9 * 4 = 36 입니다.\n",
            "구구단 : 9 * 5 = 45 입니다.\n",
            "구구단 : 9 * 6 = 54 입니다.\n",
            "구구단 : 9 * 7 = 63 입니다.\n",
            "구구단 : 9 * 8 = 72 입니다.\n",
            "구구단 : 9 * 9 = 81 입니다.\n"
          ]
        }
      ]
    },
    {
      "cell_type": "code",
      "source": [
        "exam = [60,80,95,69,90,81,80,69,79,66,70,90,96]\n",
        "\n",
        "# 90 이상 A 80 이상 B 70 이상 C 60 이상 D  나머지 F\n",
        "def get_score(data):\n",
        "  if data >= 90:\n",
        "    return \"A\"\n",
        "  elif 90 > data >= 80:\n",
        "    return \"B\"\n",
        "  elif 80 > data >= 70:\n",
        "    return \"C\"\n",
        "  elif 70 > data >= 60:\n",
        "    return \"D\"\n",
        "  else:\n",
        "    return \"F\"\n",
        "\n",
        "for i in exam:\n",
        "  print(f\"당신의 성적은 {i} 임으로 점수는 {get_score(i)}입니다\")"
      ],
      "metadata": {
        "colab": {
          "base_uri": "https://localhost:8080/"
        },
        "id": "fsWisAlKoBkh",
        "outputId": "d389a270-2c2a-44e9-c19e-530563f28923"
      },
      "execution_count": 23,
      "outputs": [
        {
          "output_type": "stream",
          "name": "stdout",
          "text": [
            "당신의 성적은 60 임으로 점수는 D입니다\n",
            "당신의 성적은 80 임으로 점수는 B입니다\n",
            "당신의 성적은 95 임으로 점수는 A입니다\n",
            "당신의 성적은 69 임으로 점수는 D입니다\n",
            "당신의 성적은 90 임으로 점수는 A입니다\n",
            "당신의 성적은 81 임으로 점수는 B입니다\n",
            "당신의 성적은 80 임으로 점수는 B입니다\n",
            "당신의 성적은 69 임으로 점수는 D입니다\n",
            "당신의 성적은 79 임으로 점수는 C입니다\n",
            "당신의 성적은 66 임으로 점수는 D입니다\n",
            "당신의 성적은 70 임으로 점수는 C입니다\n",
            "당신의 성적은 90 임으로 점수는 A입니다\n",
            "당신의 성적은 96 임으로 점수는 A입니다\n"
          ]
        }
      ]
    },
    {
      "cell_type": "code",
      "source": [
        "ans = 0\n",
        "for i in range(1,11):\n",
        "  ans += i\n",
        "  print(f\"i의 값 : {i}, 합계:{ans}\")"
      ],
      "metadata": {
        "colab": {
          "base_uri": "https://localhost:8080/"
        },
        "id": "sm-VTGFKq-wF",
        "outputId": "6eb2a746-b65b-4085-87e6-59d9897e201e"
      },
      "execution_count": 26,
      "outputs": [
        {
          "output_type": "stream",
          "name": "stdout",
          "text": [
            "i의 값 : 1, 합계:1\n",
            "i의 값 : 2, 합계:3\n",
            "i의 값 : 3, 합계:6\n",
            "i의 값 : 4, 합계:10\n",
            "i의 값 : 5, 합계:15\n",
            "i의 값 : 6, 합계:21\n",
            "i의 값 : 7, 합계:28\n",
            "i의 값 : 8, 합계:36\n",
            "i의 값 : 9, 합계:45\n",
            "i의 값 : 10, 합계:55\n"
          ]
        }
      ]
    },
    {
      "cell_type": "code",
      "source": [
        "#짜장 한그릇에 10_000 입력금액이 많으면 구매가능 아니면 구매 불가능으로 나타내시오\n",
        "money = int(input())\n",
        "price = 10_000\n",
        "if money >= price:\n",
        "  print(\"구매가능\")\n",
        "else:\n",
        "  print(\"구매 불가능\")"
      ],
      "metadata": {
        "colab": {
          "base_uri": "https://localhost:8080/"
        },
        "id": "jb3ovEXkr8ld",
        "outputId": "8ed3de33-72da-436a-d439-cbec00fc37f3"
      },
      "execution_count": 30,
      "outputs": [
        {
          "output_type": "stream",
          "name": "stdout",
          "text": [
            "1\n",
            "구매 불가능\n"
          ]
        }
      ]
    },
    {
      "cell_type": "code",
      "source": [
        "# 앞으로 하고싶은일 : 아직은 막연하지만 데이터사이언스 쪽으로 하고싶습니다\n",
        "# 이번학기 잘 부탁드립니다."
      ],
      "metadata": {
        "id": "NC4k2h7awgXf"
      },
      "execution_count": null,
      "outputs": []
    }
  ]
}